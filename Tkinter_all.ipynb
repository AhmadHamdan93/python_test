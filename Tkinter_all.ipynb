{
 "cells": [
  {
   "cell_type": "code",
   "execution_count": 7,
   "metadata": {},
   "outputs": [],
   "source": [
    "# Import Module\n",
    "from tkinter import *\n",
    "def clicked():\n",
    "    res = \"You wrote\" + txt.get()\n",
    "    lbl.configure(text=res)\n",
    "    if check_var.get() == 1:\n",
    "        print(\"Check box is checked\")\n",
    "    else:\n",
    "        print(\"Check box is not checked\")\n",
    " \n",
    "# create root window\n",
    "root = Tk()\n",
    "check_var = IntVar()\n",
    "check_box = Checkbutton(root, text=\"Check me\", variable=check_var)\n",
    "check_box.grid(column=0, row=1)\n",
    "# root window title and dimension\n",
    "root.title(\"Welcome to GeekForGeeks\")\n",
    "# Set geometry(widthxheight)\n",
    "root.geometry('350x200')\n",
    " \n",
    "# adding menu bar in root window\n",
    "# new item in menu bar labelled as 'New'\n",
    "# adding more items in the menu bar\n",
    "menu = Menu(root)\n",
    "item = Menu(menu)\n",
    "item.add_command(label='New')\n",
    "menu.add_cascade(label='File', menu=item)\n",
    "root.config(menu=menu)\n",
    " \n",
    "# adding a label to the root window\n",
    "lbl = Label(root, text = \"Are you a Geek?\")\n",
    "lbl.grid()\n",
    " \n",
    "# adding Entry Field\n",
    "txt = Entry(root, width=10)\n",
    "txt.grid(column =1, row =0)\n",
    " \n",
    " \n",
    "# function to display user text when\n",
    "# button is clicked\n",
    "def clicked():\n",
    " \n",
    "    res = \"You wrote\" + txt.get()\n",
    "    lbl.configure(text = res)\n",
    " \n",
    "# button widget with red color text inside\n",
    "btn = Button(root, text = \"Click me\" ,\n",
    "             fg = \"red\", command=clicked)\n",
    "# Set Button Grid\n",
    "btn.grid(column=2, row=0)\n",
    " \n",
    "# Execute Tkinter\n",
    "root.mainloop()"
   ]
  },
  {
   "attachments": {},
   "cell_type": "markdown",
   "metadata": {},
   "source": [
    "label"
   ]
  },
  {
   "cell_type": "code",
   "execution_count": 56,
   "metadata": {},
   "outputs": [],
   "source": [
    "import tkinter as tk\n",
    "\n",
    "win = tk.Tk()\n",
    "label = tk.Label(win, text=\"مرحبًا بك في Tkinter!\")\n",
    "label.pack()\n",
    "win.mainloop()\n"
   ]
  },
  {
   "attachments": {},
   "cell_type": "markdown",
   "metadata": {},
   "source": [
    "Button "
   ]
  },
  {
   "cell_type": "code",
   "execution_count": 57,
   "metadata": {},
   "outputs": [],
   "source": [
    "import tkinter as tk\n",
    "\n",
    "def button_click():\n",
    "    label.config(text=\"تم النقر!\")\n",
    "\n",
    "win = tk.Tk()\n",
    "label = tk.Label(win, text=\"اضغط على الزر\")\n",
    "label.pack()\n",
    "button = tk.Button(win, text=\"انقر هنا\", command=button_click)\n",
    "button.pack()\n",
    "win.mainloop()\n",
    "\n"
   ]
  },
  {
   "attachments": {},
   "cell_type": "markdown",
   "metadata": {},
   "source": [
    "Entry "
   ]
  },
  {
   "cell_type": "code",
   "execution_count": 58,
   "metadata": {},
   "outputs": [],
   "source": [
    "import tkinter as tk\n",
    "\n",
    "def get_entry_text():\n",
    "    text = entry.get()\n",
    "    label.config(text=\"النص المدخل: \" + text)\n",
    "\n",
    "win = tk.Tk()\n",
    "label = tk.Label(win, text=\"أدخل النص:\")\n",
    "label.pack()\n",
    "entry = tk.Entry(win)\n",
    "entry.pack()\n",
    "button = tk.Button(win, text=\"احصل على النص\", command=get_entry_text)\n",
    "button.pack()\n",
    "win.mainloop()\n"
   ]
  },
  {
   "attachments": {},
   "cell_type": "markdown",
   "metadata": {},
   "source": [
    "Checkbutton "
   ]
  },
  {
   "cell_type": "code",
   "execution_count": 59,
   "metadata": {},
   "outputs": [],
   "source": [
    "import tkinter as tk\n",
    "\n",
    "def toggle_checkbox():\n",
    "    if var.get() == 1:\n",
    "        label.config(text=\"تم تحديد المربع!\")\n",
    "    else:\n",
    "        label.config(text=\"تم إلغاء تحديد المربع!\")\n",
    "\n",
    "win = tk.Tk()\n",
    "var = tk.IntVar()\n",
    "checkbox = tk.Checkbutton(win, text=\"تحديد المربع\", variable=var, command=toggle_checkbox)\n",
    "checkbox.pack()\n",
    "label = tk.Label(win, text=\"\")\n",
    "label.pack()\n",
    "win.mainloop()\n"
   ]
  },
  {
   "attachments": {},
   "cell_type": "markdown",
   "metadata": {},
   "source": [
    "Combobox "
   ]
  },
  {
   "cell_type": "code",
   "execution_count": 60,
   "metadata": {},
   "outputs": [],
   "source": [
    "import tkinter as tk\n",
    "from tkinter import ttk\n",
    "\n",
    "def select_item(event):\n",
    "    selected_item = combobox.get()\n",
    "    label.config(text=\"العنصر المحدد: \" + selected_item)\n",
    "\n",
    "win = tk.Tk()\n",
    "label = tk.Label(win, text=\"اختر عنصرًا:\")\n",
    "label.pack()\n",
    "values = ['عنصر 1', 'عنصر 2', 'عنصر 3']\n",
    "combobox = ttk.Combobox(win, values=values)\n",
    "combobox.bind(\"<<ComboboxSelected>>\", select_item)\n",
    "combobox.pack()\n",
    "win.mainloop()\n"
   ]
  },
  {
   "attachments": {},
   "cell_type": "markdown",
   "metadata": {},
   "source": [
    "Radiobutton "
   ]
  },
  {
   "cell_type": "code",
   "execution_count": 61,
   "metadata": {},
   "outputs": [],
   "source": [
    "import tkinter as tk\n",
    "\n",
    "def select_option():\n",
    "    selected_option = var.get()\n",
    "    if selected_option == 1:\n",
    "        label.config(text=\"تم اختيار الخيار 1\")\n",
    "    elif selected_option == 2:\n",
    "        label.config(text=\"تم اختيار الخيار 2\")\n",
    "\n",
    "win = tk.Tk()\n",
    "var = tk.IntVar()\n",
    "option1 = tk.Radiobutton(win, text=\"الخيار 1\", variable=var, value=1, command=select_option)\n",
    "option1.pack()\n",
    "option2 = tk.Radiobutton(win, text=\"الخيار 2\", variable=var, value=2, command=select_option)\n",
    "option2.pack()\n",
    "label = tk.Label(win, text=\"\")\n",
    "label.pack()\n",
    "win.mainloop()\n"
   ]
  },
  {
   "attachments": {},
   "cell_type": "markdown",
   "metadata": {},
   "source": [
    "Text (مربع النص):"
   ]
  },
  {
   "cell_type": "code",
   "execution_count": 62,
   "metadata": {},
   "outputs": [],
   "source": [
    "import tkinter as tk\n",
    "\n",
    "def get_text():\n",
    "    entered_text = text.get(\"1.0\", tk.END)\n",
    "    label.config(text=\"النص المدخل:\\n\" + entered_text)\n",
    "\n",
    "win = tk.Tk()\n",
    "label = tk.Label(win, text=\"أدخل النص:\")\n",
    "label.pack()\n",
    "text = tk.Text(win, height=5, width=30)\n",
    "text.pack()\n",
    "button = tk.Button(win, text=\"احصل على النص\", command=get_text)\n",
    "button.pack()\n",
    "win.mainloop()\n"
   ]
  },
  {
   "attachments": {},
   "cell_type": "markdown",
   "metadata": {},
   "source": [
    "Frame "
   ]
  },
  {
   "cell_type": "code",
   "execution_count": 63,
   "metadata": {},
   "outputs": [],
   "source": [
    "import tkinter as tk\n",
    "\n",
    "win = tk.Tk()\n",
    "frame = tk.Frame(win, width=200, height=100, bg=\"red\")\n",
    "frame.pack()\n",
    "label = tk.Label(frame, text=\"هذا الإطار\")\n",
    "label.pack()\n",
    "win.mainloop()\n"
   ]
  },
  {
   "attachments": {},
   "cell_type": "markdown",
   "metadata": {},
   "source": [
    "Scrollbar "
   ]
  },
  {
   "cell_type": "code",
   "execution_count": 64,
   "metadata": {},
   "outputs": [],
   "source": [
    "import tkinter as tk\n",
    "\n",
    "win = tk.Tk()\n",
    "scrollbar = tk.Scrollbar(win)\n",
    "scrollbar.pack(side=tk.RIGHT, fill=tk.Y)\n",
    "text = tk.Text(win, yscrollcommand=scrollbar.set)\n",
    "text.pack(side=tk.LEFT, fill=tk.BOTH)\n",
    "scrollbar.config(command=text.yview)\n",
    "win.mainloop()\n"
   ]
  },
  {
   "attachments": {},
   "cell_type": "markdown",
   "metadata": {},
   "source": [
    "Canvas "
   ]
  },
  {
   "cell_type": "code",
   "execution_count": 65,
   "metadata": {},
   "outputs": [],
   "source": [
    "import tkinter as tk\n",
    "\n",
    "win = tk.Tk()\n",
    "canvas = tk.Canvas(win, width=200, height=200)\n",
    "canvas.pack()\n",
    "rectangle = canvas.create_rectangle(50, 50, 150, 150, fill=\"blue\")\n",
    "win.mainloop()\n"
   ]
  },
  {
   "attachments": {},
   "cell_type": "markdown",
   "metadata": {},
   "source": [
    "Menu "
   ]
  },
  {
   "cell_type": "code",
   "execution_count": null,
   "metadata": {},
   "outputs": [
    {
     "ename": "",
     "evalue": "",
     "output_type": "error",
     "traceback": [
      "\u001b[1;31mThe Kernel crashed while executing code in the the current cell or a previous cell. Please review the code in the cell(s) to identify a possible cause of the failure. Click <a href='https://aka.ms/vscodeJupyterKernelCrash'>here</a> for more info. View Jupyter <a href='command:jupyter.viewOutput'>log</a> for further details."
     ]
    }
   ],
   "source": [
    "import tkinter as tk\n",
    "\n",
    "def do_something():\n",
    "    label.config(text=\"تم تنفيذ الأمر\")\n",
    "\n",
    "win = tk.Tk()\n",
    "\n",
    "menu_bar = tk.Menu(win)\n",
    "\n",
    "file_menu = tk.Menu(menu_bar, tearoff=0)\n",
    "file_menu.add_command(label=\"فتح\", command=do_something)\n",
    "file_menu.add_command(label=\"حفظ\", command=do_something)\n",
    "file_menu.add_separator()\n",
    "file_menu.add_command(label=\"خروج\", command=win.quit)\n",
    "\n",
    "edit_menu = tk.Menu(menu_bar, tearoff=0)\n",
    "edit_menu.add_command(label=\"قص\", command=do_something)\n",
    "edit_menu.add_command(label=\"نسخ\", command=do_something)\n",
    "edit_menu.add_command(label=\"لصق\", command=do_something)\n",
    "\n",
    "menu_bar.add_cascade(label=\"ملف\", menu=file_menu)\n",
    "menu_bar.add_cascade(label=\"تعديل\", menu=edit_menu)\n",
    "\n",
    "win.config(menu=menu_bar)\n",
    "\n",
    "label = tk.Label(win, text=\"\")\n",
    "label.pack()\n",
    "\n",
    "win.mainloop()\n"
   ]
  },
  {
   "attachments": {},
   "cell_type": "markdown",
   "metadata": {},
   "source": [
    "Treeview (العرض الشجري):"
   ]
  },
  {
   "cell_type": "code",
   "execution_count": 1,
   "metadata": {},
   "outputs": [],
   "source": [
    "import tkinter as tk\n",
    "from tkinter import ttk\n",
    "\n",
    "def treeview_selected(event):\n",
    "    selected_item = treeview.focus()\n",
    "    label.config(text=\"العنصر المحدد: \" + treeview.item(selected_item)[\"text\"])\n",
    "\n",
    "win = tk.Tk()\n",
    "\n",
    "treeview = ttk.Treeview(win)\n",
    "treeview.insert(\"\", \"0\", \"item1\", text=\"عنصر 1\")\n",
    "treeview.insert(\"item1\", \"end\", text=\"عنصر 1.1\")\n",
    "treeview.insert(\"\", \"end\", text=\"عنصر 2\")\n",
    "treeview.bind(\"<<TreeviewSelect>>\", treeview_selected)\n",
    "treeview.pack()\n",
    "\n",
    "label = tk.Label(win, text=\"\")\n",
    "label.pack()\n",
    "\n",
    "win.mainloop()"
   ]
  },
  {
   "attachments": {},
   "cell_type": "markdown",
   "metadata": {},
   "source": [
    "Progressbar (شريط التقدم):"
   ]
  },
  {
   "cell_type": "code",
   "execution_count": 2,
   "metadata": {},
   "outputs": [],
   "source": [
    "import tkinter as tk\n",
    "from tkinter import ttk\n",
    "\n",
    "def start_progress():\n",
    "    progress.start()\n",
    "\n",
    "def stop_progress():\n",
    "    progress.stop()\n",
    "\n",
    "win = tk.Tk()\n",
    "\n",
    "progress = ttk.Progressbar(win, mode=\"indeterminate\")\n",
    "progress.pack()\n",
    "\n",
    "start_button = tk.Button(win, text=\"بدء\", command=start_progress)\n",
    "start_button.pack()\n",
    "\n",
    "stop_button = tk.Button(win, text=\"إيقاف\", command=stop_progress)\n",
    "stop_button.pack()\n",
    "\n",
    "win.mainloop()\n"
   ]
  },
  {
   "attachments": {},
   "cell_type": "markdown",
   "metadata": {},
   "source": [
    "Notebook (المفكرة):"
   ]
  },
  {
   "cell_type": "code",
   "execution_count": 3,
   "metadata": {},
   "outputs": [],
   "source": [
    "import tkinter as tk\n",
    "from tkinter import ttk\n",
    "\n",
    "win = tk.Tk()\n",
    "\n",
    "notebook = ttk.Notebook(win)\n",
    "tab1 = ttk.Frame(notebook)\n",
    "tab2 = ttk.Frame(notebook)\n",
    "\n",
    "notebook.add(tab1, text=\"علامة التبويب 1\")\n",
    "notebook.add(tab2, text=\"علامة التبويب 2\")\n",
    "\n",
    "label1 = tk.Label(tab1, text=\"محتوى التبويب 1\")\n",
    "label1.pack()\n",
    "\n",
    "label2 = tk.Label(tab2, text=\"محتوى التبويب 2\")\n",
    "label2.pack()\n",
    "\n",
    "notebook.pack()\n",
    "\n",
    "win.mainloop()\n"
   ]
  },
  {
   "attachments": {},
   "cell_type": "markdown",
   "metadata": {},
   "source": [
    "PanedWindow (نافذة مقسمة):"
   ]
  },
  {
   "cell_type": "code",
   "execution_count": 4,
   "metadata": {},
   "outputs": [],
   "source": [
    "import tkinter as tk\n",
    "\n",
    "win = tk.Tk()\n",
    "\n",
    "paned_window = tk.PanedWindow(win, orient=tk.HORIZONTAL)\n",
    "paned_window.pack(fill=tk.BOTH, expand=True)\n",
    "\n",
    "frame1 = tk.Frame(paned_window, bg=\"red\", width=100, height=200)\n",
    "frame2 = tk.Frame(paned_window, bg=\"blue\", width=100, height=200)\n",
    "\n",
    "paned_window.add(frame1)\n",
    "paned_window.add(frame2)\n",
    "\n",
    "win.mainloop()\n"
   ]
  },
  {
   "attachments": {},
   "cell_type": "markdown",
   "metadata": {},
   "source": [
    "Canvas (لوحة):"
   ]
  },
  {
   "cell_type": "code",
   "execution_count": 5,
   "metadata": {},
   "outputs": [],
   "source": [
    "import tkinter as tk\n",
    "\n",
    "win = tk.Tk()\n",
    "\n",
    "canvas = tk.Canvas(win, width=200, height=200, bg=\"white\")\n",
    "canvas.pack()\n",
    "\n",
    "rectangle = canvas.create_rectangle(50, 50, 150, 150, fill=\"red\")\n",
    "\n",
    "win.mainloop()\n"
   ]
  },
  {
   "attachments": {},
   "cell_type": "markdown",
   "metadata": {},
   "source": [
    " MenuButton (زر القائمة):"
   ]
  },
  {
   "cell_type": "code",
   "execution_count": 6,
   "metadata": {},
   "outputs": [],
   "source": [
    "import tkinter as tk\n",
    "\n",
    "win = tk.Tk()\n",
    "\n",
    "def menu_option(option):\n",
    "    label.config(text=\"تم اختيار: \" + option)\n",
    "\n",
    "options = [\"خيار 1\", \"خيار 2\", \"خيار 3\"]\n",
    "\n",
    "menu_button = tk.Menubutton(win, text=\"اختر\", relief=tk.RAISED)\n",
    "menu_button.menu = tk.Menu(menu_button, tearoff=0)\n",
    "menu_button[\"menu\"] = menu_button.menu\n",
    "\n",
    "for option in options:\n",
    "    menu_button.menu.add_command(label=option, command=lambda opt=option: menu_option(opt))\n",
    "\n",
    "menu_button.pack()\n",
    "\n",
    "label = tk.Label(win, text=\"\")\n",
    "label.pack()\n",
    "\n",
    "win.mainloop()\n"
   ]
  },
  {
   "attachments": {},
   "cell_type": "markdown",
   "metadata": {},
   "source": [
    " Treeview (عرض الشجرة):"
   ]
  },
  {
   "cell_type": "code",
   "execution_count": 9,
   "metadata": {},
   "outputs": [],
   "source": [
    "import tkinter as tk\n",
    "from tkinter import ttk\n",
    "\n",
    "win = tk.Tk()\n",
    "\n",
    "tree = ttk.Treeview(win)\n",
    "\n",
    "tree[\"columns\"] = (\"Name\", \"Age\", \"City\")\n",
    "\n",
    "tree.column(\"#0\", width=100)\n",
    "tree.column(\"Name\", width=100)\n",
    "tree.column(\"Age\", width=100)\n",
    "tree.column(\"City\", width=100)\n",
    "\n",
    "tree.heading(\"#0\", text=\"ID\")\n",
    "tree.heading(\"Name\", text=\"Name\")\n",
    "tree.heading(\"Age\", text=\"Age\")\n",
    "tree.heading(\"City\", text=\"City\")\n",
    "\n",
    "tree.insert(\"\", tk.END, text=\"1\", values=(\"John Doe\", \"25\", \"New York\"))\n",
    "tree.insert(\"\", tk.END, text=\"2\", values=(\"Jane Smith\", \"30\", \"London\"))\n",
    "\n",
    "tree.pack()\n",
    "\n",
    "win.mainloop()\n"
   ]
  },
  {
   "attachments": {},
   "cell_type": "markdown",
   "metadata": {},
   "source": [
    " Progressbar (شريط التقدم):"
   ]
  },
  {
   "cell_type": "code",
   "execution_count": 8,
   "metadata": {},
   "outputs": [],
   "source": [
    "import tkinter as tk\n",
    "from tkinter import ttk\n",
    "\n",
    "win = tk.Tk()\n",
    "\n",
    "progressbar = ttk.Progressbar(win, length=200, mode=\"indeterminate\")\n",
    "progressbar.pack()\n",
    "\n",
    "progressbar.start()\n",
    "\n",
    "win.mainloop()\n"
   ]
  },
  {
   "attachments": {},
   "cell_type": "markdown",
   "metadata": {},
   "source": [
    "تغيير أيقونة النافذة الرئيسية:"
   ]
  },
  {
   "cell_type": "code",
   "execution_count": 11,
   "metadata": {},
   "outputs": [
    {
     "ename": "TclError",
     "evalue": "bitmap \"pyc.ico\" not defined",
     "output_type": "error",
     "traceback": [
      "\u001b[1;31m---------------------------------------------------------------------------\u001b[0m",
      "\u001b[1;31mTclError\u001b[0m                                  Traceback (most recent call last)",
      "Cell \u001b[1;32mIn[11], line 4\u001b[0m\n\u001b[0;32m      1\u001b[0m \u001b[39mimport\u001b[39;00m \u001b[39mtkinter\u001b[39;00m \u001b[39mas\u001b[39;00m \u001b[39mtk\u001b[39;00m\n\u001b[0;32m      3\u001b[0m win \u001b[39m=\u001b[39m tk\u001b[39m.\u001b[39mTk()\n\u001b[1;32m----> 4\u001b[0m win\u001b[39m.\u001b[39;49miconbitmap(\u001b[39m'\u001b[39;49m\u001b[39mpyc.ico\u001b[39;49m\u001b[39m'\u001b[39;49m)  \u001b[39m# استبدال \"pyc.ico\" باسم وامتداد الأيقونة الخاصة بك\u001b[39;00m\n\u001b[0;32m      5\u001b[0m win\u001b[39m.\u001b[39mmainloop()\n",
      "File \u001b[1;32mc:\\Python\\Python310\\lib\\tkinter\\__init__.py:2109\u001b[0m, in \u001b[0;36mWm.wm_iconbitmap\u001b[1;34m(self, bitmap, default)\u001b[0m\n\u001b[0;32m   2107\u001b[0m     \u001b[39mreturn\u001b[39;00m \u001b[39mself\u001b[39m\u001b[39m.\u001b[39mtk\u001b[39m.\u001b[39mcall(\u001b[39m'\u001b[39m\u001b[39mwm\u001b[39m\u001b[39m'\u001b[39m, \u001b[39m'\u001b[39m\u001b[39miconbitmap\u001b[39m\u001b[39m'\u001b[39m, \u001b[39mself\u001b[39m\u001b[39m.\u001b[39m_w, \u001b[39m'\u001b[39m\u001b[39m-default\u001b[39m\u001b[39m'\u001b[39m, default)\n\u001b[0;32m   2108\u001b[0m \u001b[39melse\u001b[39;00m:\n\u001b[1;32m-> 2109\u001b[0m     \u001b[39mreturn\u001b[39;00m \u001b[39mself\u001b[39;49m\u001b[39m.\u001b[39;49mtk\u001b[39m.\u001b[39;49mcall(\u001b[39m'\u001b[39;49m\u001b[39mwm\u001b[39;49m\u001b[39m'\u001b[39;49m, \u001b[39m'\u001b[39;49m\u001b[39miconbitmap\u001b[39;49m\u001b[39m'\u001b[39;49m, \u001b[39mself\u001b[39;49m\u001b[39m.\u001b[39;49m_w, bitmap)\n",
      "\u001b[1;31mTclError\u001b[0m: bitmap \"pyc.ico\" not defined"
     ]
    }
   ],
   "source": [
    "import tkinter as tk\n",
    "\n",
    "win = tk.Tk()\n",
    "win.iconbitmap('pyc.ico')  # استبدال \"pyc.ico\" باسم وامتداد الأيقونة الخاصة بك\n",
    "win.mainloop()\n"
   ]
  },
  {
   "attachments": {},
   "cell_type": "markdown",
   "metadata": {},
   "source": [
    "شرح: يُستخدم  لتعيين أيقونة مخصصة للنافذة الرئيسية باستخدام ملف ICO.\n",
    "win.iconbitmap()\n",
    "Spinbox  استخدام عنصر "
   ]
  },
  {
   "cell_type": "code",
   "execution_count": 19,
   "metadata": {},
   "outputs": [
    {
     "name": "stdout",
     "output_type": "stream",
     "text": [
      "0\n",
      "1\n",
      "2\n",
      "3\n",
      "4\n",
      "5\n",
      "6\n",
      "7\n",
      "8\n",
      "9\n"
     ]
    }
   ],
   "source": [
    "import tkinter as tk\n",
    "from tkinter import Spinbox\n",
    "\n",
    "win = tk.Tk()\n",
    "\n",
    "def _spin():\n",
    "    value = spin.get()\n",
    "    print(value)\n",
    "    scrol.insert(tk.INSERT, value + '\\n')\n",
    "\n",
    "spin = Spinbox(win, from_=0, to=10, width=5, bd=8, command=_spin)\n",
    "spin.pack()\n",
    "\n",
    "# إنشاء عنصر Text لعرض النص مع شريط تمرير\n",
    "scrol = tk.Text(win)\n",
    "scrol.pack()\n",
    "\n",
    "# إضافة شريط تمرير عمودي إلى عنصر النص\n",
    "scrollbar = tk.Scrollbar(win)\n",
    "scrollbar.pack(side=tk.RIGHT, fill=tk.Y)\n",
    "scrol.config(yscrollcommand=scrollbar.set)\n",
    "scrollbar.config(command=scrol.yview)\n",
    "\n",
    "win.mainloop()\n",
    "\n"
   ]
  },
  {
   "attachments": {},
   "cell_type": "markdown",
   "metadata": {},
   "source": [
    " مثال على إنشاء ملاحظات التوضيح\n",
    " tooltips"
   ]
  },
  {
   "cell_type": "code",
   "execution_count": 18,
   "metadata": {},
   "outputs": [],
   "source": [
    "import tkinter as tk\n",
    "\n",
    "class ToolTip(object):\n",
    "    def __init__(self, widget):\n",
    "        self.widget = widget\n",
    "        self.tip_window = None\n",
    "    \n",
    "    def show_tip(self, tip_text):\n",
    "        x, y, _, cy = self.widget.bbox(\"insert\")\n",
    "        x = x + self.widget.winfo_rootx() + 25\n",
    "        y = y + cy + self.widget.winfo_rooty() + 25\n",
    "        \n",
    "        self.tip_window = tw = tk.Toplevel(self.widget)\n",
    "        tw.wm_overrideredirect(True)\n",
    "        tw.wm_geometry(f\"+{x}+{y}\")\n",
    "        \n",
    "        label = tk.Label(tw, text=tip_text, justify=tk.LEFT,\n",
    "                         background=\"#ffffe0\", relief=tk.SOLID, borderwidth=1,\n",
    "                         font=(\"tahoma\", \"8\", \"normal\"))\n",
    "        label.pack(ipadx=1)\n",
    "    \n",
    "    def hide_tip(self):\n",
    "        tw = self.tip_window\n",
    "        self.tip_window = None\n",
    "        if tw:\n",
    "            tw.destroy()\n",
    "\n",
    "def create_ToolTip(widget, text):\n",
    "    toolTip = ToolTip(widget)\n",
    "    \n",
    "    def enter(event):\n",
    "        toolTip.show_tip(text)\n",
    "    \n",
    "    def leave(event):\n",
    "        toolTip.hide_tip()\n",
    "    \n",
    "    widget.bind('<Enter>', enter)\n",
    "    widget.bind('<Leave>', leave)\n",
    "\n",
    "win = tk.Tk()\n",
    "\n",
    "spin = tk.Spinbox(win, from_=0, to=10, width=5)\n",
    "spin.pack()\n",
    "\n",
    "create_ToolTip(spin, 'This is a Spin control')\n",
    "\n",
    "tab3 = tk.Tk()\n",
    "tab3_frame = tk.Frame(tab3, bg='blue')\n",
    "tab3_frame.pack()\n",
    "\n",
    "for orange_color in range(2):\n",
    "    canvas = tk.Canvas(tab3_frame, width=150, height=80, highlightthickness=0, bg='orange')\n",
    "    canvas.grid(row=orange_color, column=orange_color)\n",
    "\n",
    "win.mainloop()\n"
   ]
  }
 ],
 "metadata": {
  "kernelspec": {
   "display_name": "Python 3",
   "language": "python",
   "name": "python3"
  },
  "language_info": {
   "codemirror_mode": {
    "name": "ipython",
    "version": 3
   },
   "file_extension": ".py",
   "mimetype": "text/x-python",
   "name": "python",
   "nbconvert_exporter": "python",
   "pygments_lexer": "ipython3",
   "version": "3.10.11"
  },
  "orig_nbformat": 4
 },
 "nbformat": 4,
 "nbformat_minor": 2
}
